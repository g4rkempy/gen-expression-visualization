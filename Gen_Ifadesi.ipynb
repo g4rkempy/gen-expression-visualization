from Bio.Seq import Seq

# DNA dizisini tanımla
dna_seq = Seq("ATGCGTACGTTA")
print("Orijinal DNA:", dna_seq)

# Transkripsiyon (DNA → RNA)
rna_seq = dna_seq.transcribe()
print("RNA Sekansı:", rna_seq)

# Translasyon (RNA → Protein)
protein_seq = rna_seq.translate()
print("Protein Sekansı:", protein_seq)


import pandas as pd
import matplotlib.pyplot as plt
import seaborn as sns

data = {
    'Gen': ['GenA', 'GenB', 'GenC'],
    'Örnek1': [5.2, 3.4, 7.1],
    'Örnek2': [4.8, 5.2, 8.2],
    'Örnek3': [5.2, 2.2, 1.5],
}

df = pd.DataFrame(data)
df.set_index('Gen', inplace=True)
print(df)

plt.figure(figsize=(6,4))
sns.heatmap(df, annot=True, cmap='coolwarm')
plt.title('Gen İfadesi Heatmap')
plt.show()


# Gen ifadesi verisini uzun forma çeviriyoruz
df_long = df.reset_index().melt(id_vars='Gen', var_name='Örnek', value_name='İfade')

plt.figure(figsize=(8,5))
sns.barplot(data=df_long, x='Gen', y='İfade', ci=None, color='skyblue', edgecolor='pink')
sns.stripplot(data=df_long, x='Gen', y='İfade', hue='Örnek', dodge=True, jitter=True, marker='o', edgecolor='black')

plt.title('Gen İfadesi Dağılımı')
plt.ylabel('İfade Seviyesi')
plt.legend(title='Örnek')
plt.show()

# Açıklamalar:
# melt() = veriyi uzun formata çeviriyoruz (her genin farklı örneklerdeki değerleri ayrı satırlarda)
# barplot = genlerin ortalama ifade seviyesini gösterir
# stripplot = her bir örneğin tek tek değerlerini noktalarla gösterir


 
   
  
 
 
  

